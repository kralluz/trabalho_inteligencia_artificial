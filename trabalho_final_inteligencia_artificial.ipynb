{
  "nbformat": 4,
  "nbformat_minor": 0,
  "metadata": {
    "colab": {
      "provenance": []
    },
    "kernelspec": {
      "name": "python3",
      "display_name": "Python 3"
    },
    "language_info": {
      "name": "python"
    }
  },
  "cells": [
    {
      "cell_type": "code",
      "execution_count": 1,
      "metadata": {
        "colab": {
          "base_uri": "https://localhost:8080/"
        },
        "id": "sMT7TFdWKBvU",
        "outputId": "9f24779f-0e9e-4369-d435-1a76650d9fdf"
      },
      "outputs": [
        {
          "output_type": "stream",
          "name": "stdout",
          "text": [
            "Cloning into 'parking-lot-prediction'...\n",
            "remote: Enumerating objects: 71, done.\u001b[K\n",
            "remote: Total 71 (delta 0), reused 0 (delta 0), pack-reused 71 (from 1)\u001b[K\n",
            "Receiving objects: 100% (71/71), 60.69 MiB | 15.16 MiB/s, done.\n",
            "Resolving deltas: 100% (1/1), done.\n",
            "/content/parking-lot-prediction\n",
            "\u001b[2K   \u001b[90m━━━━━━━━━━━━━━━━━━━━━━━━━━━━━━━━━━━━━━━━\u001b[0m \u001b[32m1.0/1.0 MB\u001b[0m \u001b[31m26.4 MB/s\u001b[0m eta \u001b[36m0:00:00\u001b[0m\n",
            "\u001b[2K   \u001b[90m━━━━━━━━━━━━━━━━━━━━━━━━━━━━━━━━━━━━━━━━\u001b[0m \u001b[32m363.4/363.4 MB\u001b[0m \u001b[31m3.9 MB/s\u001b[0m eta \u001b[36m0:00:00\u001b[0m\n",
            "\u001b[2K   \u001b[90m━━━━━━━━━━━━━━━━━━━━━━━━━━━━━━━━━━━━━━━━\u001b[0m \u001b[32m13.8/13.8 MB\u001b[0m \u001b[31m60.7 MB/s\u001b[0m eta \u001b[36m0:00:00\u001b[0m\n",
            "\u001b[2K   \u001b[90m━━━━━━━━━━━━━━━━━━━━━━━━━━━━━━━━━━━━━━━━\u001b[0m \u001b[32m24.6/24.6 MB\u001b[0m \u001b[31m48.7 MB/s\u001b[0m eta \u001b[36m0:00:00\u001b[0m\n",
            "\u001b[2K   \u001b[90m━━━━━━━━━━━━━━━━━━━━━━━━━━━━━━━━━━━━━━━━\u001b[0m \u001b[32m883.7/883.7 kB\u001b[0m \u001b[31m32.6 MB/s\u001b[0m eta \u001b[36m0:00:00\u001b[0m\n",
            "\u001b[2K   \u001b[90m━━━━━━━━━━━━━━━━━━━━━━━━━━━━━━━━━━━━━━━━\u001b[0m \u001b[32m664.8/664.8 MB\u001b[0m \u001b[31m2.9 MB/s\u001b[0m eta \u001b[36m0:00:00\u001b[0m\n",
            "\u001b[2K   \u001b[90m━━━━━━━━━━━━━━━━━━━━━━━━━━━━━━━━━━━━━━━━\u001b[0m \u001b[32m211.5/211.5 MB\u001b[0m \u001b[31m6.2 MB/s\u001b[0m eta \u001b[36m0:00:00\u001b[0m\n",
            "\u001b[2K   \u001b[90m━━━━━━━━━━━━━━━━━━━━━━━━━━━━━━━━━━━━━━━━\u001b[0m \u001b[32m56.3/56.3 MB\u001b[0m \u001b[31m13.0 MB/s\u001b[0m eta \u001b[36m0:00:00\u001b[0m\n",
            "\u001b[2K   \u001b[90m━━━━━━━━━━━━━━━━━━━━━━━━━━━━━━━━━━━━━━━━\u001b[0m \u001b[32m127.9/127.9 MB\u001b[0m \u001b[31m7.4 MB/s\u001b[0m eta \u001b[36m0:00:00\u001b[0m\n",
            "\u001b[2K   \u001b[90m━━━━━━━━━━━━━━━━━━━━━━━━━━━━━━━━━━━━━━━━\u001b[0m \u001b[32m207.5/207.5 MB\u001b[0m \u001b[31m5.4 MB/s\u001b[0m eta \u001b[36m0:00:00\u001b[0m\n",
            "\u001b[2K   \u001b[90m━━━━━━━━━━━━━━━━━━━━━━━━━━━━━━━━━━━━━━━━\u001b[0m \u001b[32m21.1/21.1 MB\u001b[0m \u001b[31m66.5 MB/s\u001b[0m eta \u001b[36m0:00:00\u001b[0m\n",
            "\u001b[?25h"
          ]
        }
      ],
      "source": [
        "!git clone https://github.com/Detopall/parking-lot-prediction.git\n",
        "%cd parking-lot-prediction\n",
        "!pip install ultralytics -q"
      ]
    },
    {
      "cell_type": "code",
      "source": [
        "from ultralytics import YOLO\n",
        "\n",
        "# Carregar o modelo treinado\n",
        "model = YOLO(\"runs/detect/train/weights/best.pt\")\n",
        "\n",
        "# Rodar inferência nas imagens de teste\n",
        "results = model.predict(source=\"data/test/images\", conf=0.4, save=True)\n",
        "\n",
        "## dataset parra treino\n",
        "## obter um novo modelo reinando o best com yoloV12\n",
        "## treino teste validation\n"
      ],
      "metadata": {
        "colab": {
          "base_uri": "https://localhost:8080/"
        },
        "id": "66_ChkeUNZTS",
        "outputId": "297d9032-30f3-457f-ac0c-9d4127192212"
      },
      "execution_count": 2,
      "outputs": [
        {
          "output_type": "stream",
          "name": "stdout",
          "text": [
            "Creating new Ultralytics Settings v0.0.6 file ✅ \n",
            "View Ultralytics Settings with 'yolo settings' or at '/root/.config/Ultralytics/settings.json'\n",
            "Update Settings with 'yolo settings key=value', i.e. 'yolo settings runs_dir=path/to/dir'. For help see https://docs.ultralytics.com/quickstart/#ultralytics-settings.\n",
            "\n",
            "image 1/30 /content/parking-lot-prediction/data/test/images/2012-09-13_16_55_33.jpg: 384x640 31 emptys, 70 occupieds, 617.5ms\n",
            "image 2/30 /content/parking-lot-prediction/data/test/images/2012-09-15_15_07_21.jpg: 384x640 75 emptys, 27 occupieds, 416.0ms\n",
            "image 3/30 /content/parking-lot-prediction/data/test/images/2012-09-16_17_33_22.jpg: 384x640 97 emptys, 4 occupieds, 388.8ms\n",
            "image 4/30 /content/parking-lot-prediction/data/test/images/2012-09-20_06_49_15.jpg: 384x640 98 emptys, 2 occupieds, 355.0ms\n",
            "image 5/30 /content/parking-lot-prediction/data/test/images/2012-10-11_14_46_49.jpg: 384x640 27 emptys, 73 occupieds, 368.1ms\n",
            "image 6/30 /content/parking-lot-prediction/data/test/images/2012-10-14_10_34_47.jpg: 384x640 100 emptys, 356.3ms\n",
            "image 7/30 /content/parking-lot-prediction/data/test/images/2012-10-26_10_04_36.jpg: 384x640 4 emptys, 97 occupieds, 373.0ms\n",
            "image 8/30 /content/parking-lot-prediction/data/test/images/2012-10-26_17_34_59.jpg: 384x640 45 emptys, 56 occupieds, 354.8ms\n",
            "image 9/30 /content/parking-lot-prediction/data/test/images/2012-10-26_18_45_02.jpg: 384x640 23 emptys, 79 occupieds, 359.6ms\n",
            "image 10/30 /content/parking-lot-prediction/data/test/images/2012-10-27_09_00_43.jpg: 384x640 88 emptys, 13 occupieds, 363.3ms\n",
            "image 11/30 /content/parking-lot-prediction/data/test/images/2012-10-28_17_12_16.jpg: 384x640 102 emptys, 354.9ms\n",
            "image 12/30 /content/parking-lot-prediction/data/test/images/2012-10-30_16_27_22.jpg: 384x640 36 emptys, 66 occupieds, 389.7ms\n",
            "image 13/30 /content/parking-lot-prediction/data/test/images/2012-11-06_14_53_34.jpg: 384x640 11 emptys, 85 occupieds, 344.8ms\n",
            "image 14/30 /content/parking-lot-prediction/data/test/images/2012-11-08_17_40_56.jpg: 384x640 29 emptys, 71 occupieds, 421.9ms\n",
            "image 15/30 /content/parking-lot-prediction/data/test/images/2012-11-10_10_42_50.jpg: 384x640 12 emptys, 87 occupieds, 352.3ms\n",
            "image 16/30 /content/parking-lot-prediction/data/test/images/2012-11-20_18_24_42.jpg: 384x640 35 occupieds, 564.0ms\n",
            "image 17/30 /content/parking-lot-prediction/data/test/images/2012-12-17_13_05_09.jpg: 384x640 3 emptys, 25 occupieds, 600.6ms\n",
            "image 18/30 /content/parking-lot-prediction/data/test/images/2012-12-18_16_45_13.jpg: 384x640 28 occupieds, 559.2ms\n",
            "image 19/30 /content/parking-lot-prediction/data/test/images/2012-12-22_09_45_05.jpg: 384x640 28 emptys, 547.7ms\n",
            "image 20/30 /content/parking-lot-prediction/data/test/images/2012-12-24_13_15_08.jpg: 384x640 28 emptys, 403.8ms\n",
            "image 21/30 /content/parking-lot-prediction/data/test/images/2012-12-28_10_05_05.jpg: 384x640 25 emptys, 357.6ms\n",
            "image 22/30 /content/parking-lot-prediction/data/test/images/2013-01-16_12_15_08.jpg: 384x640 20 emptys, 8 occupieds, 397.5ms\n",
            "image 23/30 /content/parking-lot-prediction/data/test/images/2013-01-16_13_25_09.jpg: 384x640 17 emptys, 11 occupieds, 347.9ms\n",
            "image 24/30 /content/parking-lot-prediction/data/test/images/2013-01-17_15_15_11.jpg: 384x640 19 emptys, 9 occupieds, 391.3ms\n",
            "image 25/30 /content/parking-lot-prediction/data/test/images/2013-03-09_08_15_02.jpg: 384x640 39 emptys, 1 occupied, 367.8ms\n",
            "image 26/30 /content/parking-lot-prediction/data/test/images/2013-03-12_10_30_05.jpg: 384x640 1 empty, 39 occupieds, 349.8ms\n",
            "image 27/30 /content/parking-lot-prediction/data/test/images/2013-03-18_12_30_07.jpg: 384x640 1 empty, 39 occupieds, 357.7ms\n",
            "image 28/30 /content/parking-lot-prediction/data/test/images/2013-03-19_11_35_06.jpg: 384x640 1 empty, 39 occupieds, 357.9ms\n",
            "image 29/30 /content/parking-lot-prediction/data/test/images/2013-04-15_07_25_01.jpg: 384x640 1 empty, 39 occupieds, 345.7ms\n",
            "image 30/30 /content/parking-lot-prediction/data/test/images/2013-04-15_14_45_09.jpg: 384x640 4 emptys, 36 occupieds, 365.1ms\n",
            "Speed: 3.9ms preprocess, 404.3ms inference, 2.7ms postprocess per image at shape (1, 3, 384, 640)\n",
            "Results saved to \u001b[1mruns/detect/predict\u001b[0m\n"
          ]
        }
      ]
    },
    {
      "cell_type": "code",
      "source": [
        "# vagas_livres = 0\n",
        "for r in results:\n",
        "    for c in r.boxes.cls:\n",
        "        if r.names[int(c)] == 'empty':\n",
        "            vagas_livres += 1\n",
        "\n",
        "print(f\"Total de vagas livres detectadas: {vagas_livres}\")\n"
      ],
      "metadata": {
        "colab": {
          "base_uri": "https://localhost:8080/"
        },
        "id": "OM2SyGgxMIzM",
        "outputId": "a2644681-0e50-47b3-fcf6-e1328bbb5bde"
      },
      "execution_count": null,
      "outputs": [
        {
          "output_type": "stream",
          "name": "stdout",
          "text": [
            "Total de vagas livres detectadas: 965\n"
          ]
        }
      ]
    }
  ]
}